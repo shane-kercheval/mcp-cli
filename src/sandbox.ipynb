{
 "cells": [
  {
   "cell_type": "code",
   "execution_count": null,
   "metadata": {},
   "outputs": [],
   "source": [
    "from app import my_function\n",
    "\n",
    "my_function(a=1, b=4)"
   ]
  },
  {
   "cell_type": "code",
   "execution_count": null,
   "metadata": {},
   "outputs": [],
   "source": [
    "import subprocess\n",
    "\n",
    "\n",
    "MCP_SERVERS_CONFIG = {\n",
    "    \"mcpServers\": {\n",
    "        \"jupyter\": {\n",
    "            \"command\": \"/usr/local/bin/docker\",\n",
    "            \"args\": [\n",
    "                    \"run\",\n",
    "                    \"-i\",\n",
    "                    \"--rm\",\n",
    "                    \"-e\",\n",
    "                    \"SERVER_URL\",\n",
    "                    \"-e\",\n",
    "                    \"TOKEN\",\n",
    "                    \"-e\",\n",
    "                    \"NOTEBOOK_PATH\",\n",
    "                    \"datalayer/jupyter-mcp-server:latest\",\n",
    "                ],\n",
    "                \"env\": {\n",
    "                \"SERVER_URL\": \"http://host.docker.internal:8888\",\n",
    "                \"TOKEN\": \"MY_TOKEN\",\n",
    "                \"NOTEBOOK_PATH\": 'mcp/mcp_test.ipynb',\n",
    "            },\n",
    "        },\n",
    "        \"Conda\": {\n",
    "            \"command\": subprocess.check_output([\"which\", \"uv\"], text=True).strip(),\n",
    "            \"args\": [\"run\", \"condamcp\"],\n",
    "        },\n",
    "    },\n",
    "}"
   ]
  },
  {
   "cell_type": "code",
   "execution_count": null,
   "metadata": {},
   "outputs": [],
   "source": [
    "from sik_llms.mcp_manager import MCPClientManager\n",
    "\n",
    "mcp_manager = MCPClientManager(configs=MCP_SERVERS_CONFIG)\n",
    "await mcp_manager.connect_servers()\n",
    "mcp_manager.get_tool_infos()\n"
   ]
  },
  {
   "cell_type": "code",
   "execution_count": null,
   "metadata": {},
   "outputs": [],
   "source": []
  }
 ],
 "metadata": {
  "kernelspec": {
   "display_name": ".venv",
   "language": "python",
   "name": "python3"
  },
  "language_info": {
   "codemirror_mode": {
    "name": "ipython",
    "version": 3
   },
   "file_extension": ".py",
   "mimetype": "text/x-python",
   "name": "python",
   "nbconvert_exporter": "python",
   "pygments_lexer": "ipython3",
   "version": "3.13.1"
  }
 },
 "nbformat": 4,
 "nbformat_minor": 2
}
